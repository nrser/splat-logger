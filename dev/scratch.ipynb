{
 "cells": [
  {
   "cell_type": "code",
   "execution_count": null,
   "metadata": {},
   "outputs": [],
   "source": [
    "from dataclasses import dataclass\n",
    "from typing import Union, Any\n",
    "\n",
    "Level = Union[int, str]\n",
    "\n",
    "class RichTypeError(TypeError):\n",
    "    pass\n",
    "\n",
    "@dataclass(frozen=True, slots=True)\n",
    "class Arg:\n",
    "    name: str\n",
    "\n",
    "@dataclass(frozen=True, slots=True)\n",
    "class Val:\n",
    "    value: Any\n",
    "\n",
    "def do_shit(level):\n",
    "    raise RichTypeError(\n",
    "        \"Expected\", Arg(\"level\"), \"to be\", Level, \"given\", type(level),\n",
    "        Val(level)\n",
    "    )"
   ]
  }
 ],
 "metadata": {
  "kernelspec": {
   "display_name": "Python 3.10.4 ('.venv': poetry)",
   "language": "python",
   "name": "python3"
  },
  "language_info": {
   "codemirror_mode": {
    "name": "ipython",
    "version": 3
   },
   "file_extension": ".py",
   "mimetype": "text/x-python",
   "name": "python",
   "nbconvert_exporter": "python",
   "pygments_lexer": "ipython3",
   "version": "3.10.4"
  },
  "orig_nbformat": 4,
  "vscode": {
   "interpreter": {
    "hash": "f0b792ccb3801377a1cc737f1234bedd1a05b8c2c0b65a5c0614f201b80885ed"
   }
  }
 },
 "nbformat": 4,
 "nbformat_minor": 2
}
