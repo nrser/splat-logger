{
 "cells": [
  {
   "cell_type": "code",
   "execution_count": null,
   "metadata": {},
   "outputs": [],
   "source": [
    "from dataclasses import dataclass\n",
    "from typing import Union, Any\n",
    "\n",
    "Level = Union[int, str]\n",
    "\n",
    "class RichTypeError(TypeError):\n",
    "    pass\n",
    "\n",
    "@dataclass(frozen=True, slots=True)\n",
    "class Arg:\n",
    "    name: str\n",
    "\n",
    "@dataclass(frozen=True, slots=True)\n",
    "class Val:\n",
    "    value: Any\n",
    "\n",
    "def do_shit(level):\n",
    "    raise RichTypeError(\n",
    "        \"Expected\", Arg(\"level\"), \"to be\", Level, \"given\", type(level),\n",
    "        Val(level)\n",
    "    )"
   ]
  },
  {
   "cell_type": "code",
   "execution_count": 33,
   "metadata": {},
   "outputs": [
    {
     "data": {
      "text/plain": [
       "True"
      ]
     },
     "execution_count": 33,
     "metadata": {},
     "output_type": "execute_result"
    }
   ],
   "source": [
    "from dataclasses import dataclass, replace, fields\n",
    "from functools import cached_property\n",
    "from inspect import signature\n",
    "from threading import RLock\n",
    "\n",
    "from splatlog.lib.collections import partition_mapping\n",
    "\n",
    "class FmtOptsMeta(type):\n",
    "    def __init__(cls, *args, **kwds):\n",
    "        cls._field_names = None\n",
    "        cls._cache_lock = RLock()\n",
    "\n",
    "    @property\n",
    "    def field_names(cls) -> set[str]:\n",
    "        value = cls._field_names\n",
    "        if value is not None:\n",
    "            return value\n",
    "\n",
    "        with cls._cache_lock:\n",
    "            value = cls._field_names\n",
    "            if value is not None:\n",
    "                return value\n",
    "            \n",
    "            value = {field.name for field in fields(cls)}\n",
    "            cls._field_names = value\n",
    "\n",
    "            return value\n",
    "\n",
    "@dataclass(frozen=True)\n",
    "class FmtOpts(metaclass=FmtOptsMeta):\n",
    "    def __new__(cls, *args, **kwds):\n",
    "        if (not args) and (not kwds):\n",
    "            if not hasattr(cls, \"_empty\"):\n",
    "                setattr(cls, \"_empty\", super().__new__(cls))\n",
    "            return cls._empty\n",
    "        return super().__new__(cls, *args, **kwds)\n",
    "\n",
    "    @classmethod\n",
    "    def partition_kwds(cls, **kwds):\n",
    "        return partition_mapping(kwds, cls.field_names)\n",
    "\n",
    "\n",
    "\n",
    "    full_names: bool = True\n",
    "\n",
    "    __call__ = replace\n",
    "\n",
    "\n",
    "FmtOpts.partition_kwds(x=1, full_names=False, y=2)\n",
    "\n"
   ]
  }
 ],
 "metadata": {
  "kernelspec": {
   "display_name": "Python 3.10.4 ('.venv': poetry)",
   "language": "python",
   "name": "python3"
  },
  "language_info": {
   "codemirror_mode": {
    "name": "ipython",
    "version": 3
   },
   "file_extension": ".py",
   "mimetype": "text/x-python",
   "name": "python",
   "nbconvert_exporter": "python",
   "pygments_lexer": "ipython3",
   "version": "3.10.4"
  },
  "orig_nbformat": 4,
  "vscode": {
   "interpreter": {
    "hash": "f0b792ccb3801377a1cc737f1234bedd1a05b8c2c0b65a5c0614f201b80885ed"
   }
  }
 },
 "nbformat": 4,
 "nbformat_minor": 2
}
