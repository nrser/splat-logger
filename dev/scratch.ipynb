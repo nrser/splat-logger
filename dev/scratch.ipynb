{
 "cells": [
  {
   "cell_type": "code",
   "execution_count": null,
   "metadata": {},
   "outputs": [],
   "source": [
    "from dataclasses import dataclass\n",
    "from typing import Union, Any\n",
    "\n",
    "Level = Union[int, str]\n",
    "\n",
    "class RichTypeError(TypeError):\n",
    "    pass\n",
    "\n",
    "@dataclass(frozen=True, slots=True)\n",
    "class Arg:\n",
    "    name: str\n",
    "\n",
    "@dataclass(frozen=True, slots=True)\n",
    "class Val:\n",
    "    value: Any\n",
    "\n",
    "def do_shit(level):\n",
    "    raise RichTypeError(\n",
    "        \"Expected\", Arg(\"level\"), \"to be\", Level, \"given\", type(level),\n",
    "        Val(level)\n",
    "    )"
   ]
  },
  {
   "cell_type": "code",
   "execution_count": 25,
   "metadata": {},
   "outputs": [
    {
     "ename": "TypeError",
     "evalue": "type of verbosity must be typing.Annotated[int, ValueRange(min=0, max=None)]; got <class 'int'> instead",
     "output_type": "error",
     "traceback": [
      "\u001b[0;31m---------------------------------------------------------------------------\u001b[0m",
      "\u001b[0;31mTypeError\u001b[0m                                 Traceback (most recent call last)",
      "Cell \u001b[0;32mIn [25], line 39\u001b[0m\n\u001b[1;32m     28\u001b[0m             \u001b[38;5;28;01mif\u001b[39;00m \u001b[38;5;28misinstance\u001b[39m(arg, ValueRange) \u001b[38;5;129;01mand\u001b[39;00m \u001b[38;5;129;01mnot\u001b[39;00m arg\u001b[38;5;241m.\u001b[39mis_valid(value):\n\u001b[1;32m     29\u001b[0m                 \u001b[38;5;28;01mraise\u001b[39;00m \u001b[38;5;167;01mTypeError\u001b[39;00m(\n\u001b[1;32m     30\u001b[0m                     \u001b[38;5;124m\"\u001b[39m\u001b[38;5;124mtype of \u001b[39m\u001b[38;5;132;01m{}\u001b[39;00m\u001b[38;5;124m must be \u001b[39m\u001b[38;5;132;01m{}\u001b[39;00m\u001b[38;5;124m; got \u001b[39m\u001b[38;5;132;01m{}\u001b[39;00m\u001b[38;5;124m instead\u001b[39m\u001b[38;5;124m\"\u001b[39m\u001b[38;5;241m.\u001b[39mformat(\n\u001b[1;32m     31\u001b[0m                         name,\n\u001b[0;32m   (...)\u001b[0m\n\u001b[1;32m     34\u001b[0m                     )\n\u001b[1;32m     35\u001b[0m                 )\n\u001b[0;32m---> 39\u001b[0m \u001b[43mmy_check_type\u001b[49m\u001b[43m(\u001b[49m\u001b[38;5;124;43m\"\u001b[39;49m\u001b[38;5;124;43mverbosity\u001b[39;49m\u001b[38;5;124;43m\"\u001b[39;49m\u001b[43m,\u001b[49m\u001b[43m \u001b[49m\u001b[38;5;241;43m-\u001b[39;49m\u001b[38;5;241;43m1\u001b[39;49m\u001b[43m,\u001b[49m\u001b[43m \u001b[49m\u001b[43mVerbosity\u001b[49m\u001b[43m)\u001b[49m\n\u001b[1;32m     41\u001b[0m get_origin(Verbosity)\n",
      "Cell \u001b[0;32mIn [25], line 29\u001b[0m, in \u001b[0;36mmy_check_type\u001b[0;34m(name, value, expected_type)\u001b[0m\n\u001b[1;32m     27\u001b[0m \u001b[38;5;28;01mfor\u001b[39;00m arg \u001b[38;5;129;01min\u001b[39;00m get_args(expected_type):\n\u001b[1;32m     28\u001b[0m     \u001b[38;5;28;01mif\u001b[39;00m \u001b[38;5;28misinstance\u001b[39m(arg, ValueRange) \u001b[38;5;129;01mand\u001b[39;00m \u001b[38;5;129;01mnot\u001b[39;00m arg\u001b[38;5;241m.\u001b[39mis_valid(value):\n\u001b[0;32m---> 29\u001b[0m         \u001b[38;5;28;01mraise\u001b[39;00m \u001b[38;5;167;01mTypeError\u001b[39;00m(\n\u001b[1;32m     30\u001b[0m             \u001b[38;5;124m\"\u001b[39m\u001b[38;5;124mtype of \u001b[39m\u001b[38;5;132;01m{}\u001b[39;00m\u001b[38;5;124m must be \u001b[39m\u001b[38;5;132;01m{}\u001b[39;00m\u001b[38;5;124m; got \u001b[39m\u001b[38;5;132;01m{}\u001b[39;00m\u001b[38;5;124m instead\u001b[39m\u001b[38;5;124m\"\u001b[39m\u001b[38;5;241m.\u001b[39mformat(\n\u001b[1;32m     31\u001b[0m                 name,\n\u001b[1;32m     32\u001b[0m                 expected_type,\n\u001b[1;32m     33\u001b[0m                 \u001b[38;5;28mtype\u001b[39m(value)\n\u001b[1;32m     34\u001b[0m             )\n\u001b[1;32m     35\u001b[0m         )\n",
      "\u001b[0;31mTypeError\u001b[0m: type of verbosity must be typing.Annotated[int, ValueRange(min=0, max=None)]; got <class 'int'> instead"
     ]
    }
   ],
   "source": [
    "from numbers import Number\n",
    "from typing import Annotated, Optional, get_args, get_origin, get_type_hints\n",
    "from splatlog.lib.typeguard import satisfies\n",
    "from typeguard import check_type\n",
    "import dataclasses\n",
    "\n",
    "@dataclasses.dataclass(frozen=True)\n",
    "class ValueRange:\n",
    "    min: Optional[Number] = None\n",
    "    max: Optional[Number] = None\n",
    "    \n",
    "    def is_valid(self, value: Number) -> bool:\n",
    "        if self.min is not None and value < self.min:\n",
    "            return False\n",
    "        if self.max is not None and value > self.max:\n",
    "            return False\n",
    "        return True\n",
    "\n",
    "Verbosity = Annotated[int, ValueRange(min=0)]\n",
    "\n",
    "args = get_args(Verbosity)\n",
    "\n",
    "def my_check_type(name, value, expected_type):\n",
    "    check_type(name, value, expected_type)\n",
    "\n",
    "    if get_origin(expected_type) is Annotated:\n",
    "        for arg in get_args(expected_type):\n",
    "            if isinstance(arg, ValueRange) and not arg.is_valid(value):\n",
    "                raise TypeError(\n",
    "                    \"type of {} must be {}; got {} instead\".format(\n",
    "                        name,\n",
    "                        expected_type,\n",
    "                        type(value)\n",
    "                    )\n",
    "                )\n",
    "\n",
    "\n",
    "\n",
    "my_check_type(\"verbosity\", -1, Verbosity)"
   ]
  },
  {
   "cell_type": "code",
   "execution_count": 31,
   "metadata": {},
   "outputs": [
    {
     "data": {
      "text/plain": [
       "defaultdict(<function __main__.tree_default_factory()>,\n",
       "            {'a': defaultdict(<function __main__.tree_default_factory()>,\n",
       "                         {'b': 1,\n",
       "                          'c': 2,\n",
       "                          'd': defaultdict(<function __main__.tree_default_factory()>,\n",
       "                                      {'e': 3})})})"
      ]
     },
     "execution_count": 31,
     "metadata": {},
     "output_type": "execute_result"
    }
   ],
   "source": [
    "from collections import defaultdict\n",
    "\n",
    "def tree_default_factory():\n",
    "    return defaultdict(tree_default_factory)\n",
    "\n",
    "def tree_build(entries):\n",
    "    tree = defaultdict(tree_default_factory)\n",
    "    for (*key_path, final_key), value in entries:\n",
    "        target = tree\n",
    "        for key in key_path:\n",
    "            target = target[key]\n",
    "        target[final_key] = value\n",
    "    return tree\n",
    "\n",
    "tree_build((\n",
    "    ((\"a\", \"b\"), 1),\n",
    "    ((\"a\", \"c\"), 2),\n",
    "    ((\"a\", \"d\", \"e\"), 3),\n",
    "))"
   ]
  },
  {
   "cell_type": "code",
   "execution_count": 28,
   "metadata": {},
   "outputs": [
    {
     "name": "stdout",
     "output_type": "stream",
     "text": [
      "((1, 2, 3),)\n"
     ]
    }
   ],
   "source": [
    "from pprint import pprint\n",
    "\n",
    "class Blah:\n",
    "    def __getitem__(self, *key):\n",
    "        pprint(key)\n",
    "\n",
    "b = Blah()\n",
    "\n",
    "b[1, 2, 3]"
   ]
  },
  {
   "cell_type": "code",
   "execution_count": null,
   "metadata": {},
   "outputs": [],
   "source": [
    "from collections.abc import Generator\n",
    "from splatlog.lib.collections import deep_each\n",
    "\n",
    "iterable: list[int] = [1, 2, 3]\n",
    "blah = deep_each(iterable)\n",
    "value = next(blah)"
   ]
  },
  {
   "cell_type": "code",
   "execution_count": 7,
   "metadata": {},
   "outputs": [
    {
     "data": {
      "text/plain": [
       "True"
      ]
     },
     "execution_count": 7,
     "metadata": {},
     "output_type": "execute_result"
    }
   ],
   "source": [
    "from collections.abc import Iterable\n",
    "\n",
    "isinstance(bytearray(), Iterable)"
   ]
  }
 ],
 "metadata": {
  "kernelspec": {
   "display_name": "Python 3.10.4 ('.venv': poetry)",
   "language": "python",
   "name": "python3"
  },
  "language_info": {
   "codemirror_mode": {
    "name": "ipython",
    "version": 3
   },
   "file_extension": ".py",
   "mimetype": "text/x-python",
   "name": "python",
   "nbconvert_exporter": "python",
   "pygments_lexer": "ipython3",
   "version": "3.10.4"
  },
  "orig_nbformat": 4,
  "vscode": {
   "interpreter": {
    "hash": "f0b792ccb3801377a1cc737f1234bedd1a05b8c2c0b65a5c0614f201b80885ed"
   }
  }
 },
 "nbformat": 4,
 "nbformat_minor": 2
}
