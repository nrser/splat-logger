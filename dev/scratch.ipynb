{
 "cells": [
  {
   "cell_type": "code",
   "execution_count": 1,
   "metadata": {},
   "outputs": [],
   "source": [
    "from dataclasses import dataclass\n",
    "from typing import Union, Any\n",
    "\n",
    "Level = Union[int, str]\n",
    "\n",
    "class RichTypeError(TypeError):\n",
    "    pass\n",
    "\n",
    "@dataclass(frozen=True, slots=True)\n",
    "class Arg:\n",
    "    name: str\n",
    "\n",
    "@dataclass(frozen=True, slots=True)\n",
    "class Val:\n",
    "    value: Any\n",
    "\n",
    "def do_shit(level):\n",
    "    raise RichTypeError(\n",
    "        \"Expected\", Arg(\"level\"), \"to be\", Level, \"given\", type(level),\n",
    "        Val(level)\n",
    "    )"
   ]
  },
  {
   "cell_type": "code",
   "execution_count": 2,
   "metadata": {},
   "outputs": [
    {
     "ename": "TypeError",
     "evalue": "type of verbosity must be typing.Annotated[int, ValueRange(min=0, max=None)]; got <class 'int'> instead",
     "output_type": "error",
     "traceback": [
      "\u001b[0;31m---------------------------------------------------------------------------\u001b[0m",
      "\u001b[0;31mTypeError\u001b[0m                                 Traceback (most recent call last)",
      "Cell \u001b[0;32mIn [2], line 39\u001b[0m\n\u001b[1;32m     28\u001b[0m             \u001b[38;5;28;01mif\u001b[39;00m \u001b[38;5;28misinstance\u001b[39m(arg, ValueRange) \u001b[38;5;129;01mand\u001b[39;00m \u001b[38;5;129;01mnot\u001b[39;00m arg\u001b[38;5;241m.\u001b[39mis_valid(value):\n\u001b[1;32m     29\u001b[0m                 \u001b[38;5;28;01mraise\u001b[39;00m \u001b[38;5;167;01mTypeError\u001b[39;00m(\n\u001b[1;32m     30\u001b[0m                     \u001b[38;5;124m\"\u001b[39m\u001b[38;5;124mtype of \u001b[39m\u001b[38;5;132;01m{}\u001b[39;00m\u001b[38;5;124m must be \u001b[39m\u001b[38;5;132;01m{}\u001b[39;00m\u001b[38;5;124m; got \u001b[39m\u001b[38;5;132;01m{}\u001b[39;00m\u001b[38;5;124m instead\u001b[39m\u001b[38;5;124m\"\u001b[39m\u001b[38;5;241m.\u001b[39mformat(\n\u001b[1;32m     31\u001b[0m                         name,\n\u001b[0;32m   (...)\u001b[0m\n\u001b[1;32m     34\u001b[0m                     )\n\u001b[1;32m     35\u001b[0m                 )\n\u001b[0;32m---> 39\u001b[0m \u001b[43mmy_check_type\u001b[49m\u001b[43m(\u001b[49m\u001b[38;5;124;43m\"\u001b[39;49m\u001b[38;5;124;43mverbosity\u001b[39;49m\u001b[38;5;124;43m\"\u001b[39;49m\u001b[43m,\u001b[49m\u001b[43m \u001b[49m\u001b[38;5;241;43m-\u001b[39;49m\u001b[38;5;241;43m1\u001b[39;49m\u001b[43m,\u001b[49m\u001b[43m \u001b[49m\u001b[43mVerbosity\u001b[49m\u001b[43m)\u001b[49m\n",
      "Cell \u001b[0;32mIn [2], line 29\u001b[0m, in \u001b[0;36mmy_check_type\u001b[0;34m(name, value, expected_type)\u001b[0m\n\u001b[1;32m     27\u001b[0m \u001b[38;5;28;01mfor\u001b[39;00m arg \u001b[38;5;129;01min\u001b[39;00m get_args(expected_type):\n\u001b[1;32m     28\u001b[0m     \u001b[38;5;28;01mif\u001b[39;00m \u001b[38;5;28misinstance\u001b[39m(arg, ValueRange) \u001b[38;5;129;01mand\u001b[39;00m \u001b[38;5;129;01mnot\u001b[39;00m arg\u001b[38;5;241m.\u001b[39mis_valid(value):\n\u001b[0;32m---> 29\u001b[0m         \u001b[38;5;28;01mraise\u001b[39;00m \u001b[38;5;167;01mTypeError\u001b[39;00m(\n\u001b[1;32m     30\u001b[0m             \u001b[38;5;124m\"\u001b[39m\u001b[38;5;124mtype of \u001b[39m\u001b[38;5;132;01m{}\u001b[39;00m\u001b[38;5;124m must be \u001b[39m\u001b[38;5;132;01m{}\u001b[39;00m\u001b[38;5;124m; got \u001b[39m\u001b[38;5;132;01m{}\u001b[39;00m\u001b[38;5;124m instead\u001b[39m\u001b[38;5;124m\"\u001b[39m\u001b[38;5;241m.\u001b[39mformat(\n\u001b[1;32m     31\u001b[0m                 name,\n\u001b[1;32m     32\u001b[0m                 expected_type,\n\u001b[1;32m     33\u001b[0m                 \u001b[38;5;28mtype\u001b[39m(value)\n\u001b[1;32m     34\u001b[0m             )\n\u001b[1;32m     35\u001b[0m         )\n",
      "\u001b[0;31mTypeError\u001b[0m: type of verbosity must be typing.Annotated[int, ValueRange(min=0, max=None)]; got <class 'int'> instead"
     ]
    }
   ],
   "source": [
    "from numbers import Number\n",
    "from typing import Annotated, Optional, get_args, get_origin, get_type_hints\n",
    "from splatlog.lib.typeguard import satisfies\n",
    "from typeguard import check_type\n",
    "import dataclasses\n",
    "\n",
    "@dataclasses.dataclass(frozen=True)\n",
    "class ValueRange:\n",
    "    min: Optional[Number] = None\n",
    "    max: Optional[Number] = None\n",
    "    \n",
    "    def is_valid(self, value: Number) -> bool:\n",
    "        if self.min is not None and value < self.min:\n",
    "            return False\n",
    "        if self.max is not None and value > self.max:\n",
    "            return False\n",
    "        return True\n",
    "\n",
    "Verbosity = Annotated[int, ValueRange(min=0)]\n",
    "\n",
    "args = get_args(Verbosity)\n",
    "\n",
    "def my_check_type(name, value, expected_type):\n",
    "    check_type(name, value, expected_type)\n",
    "\n",
    "    if get_origin(expected_type) is Annotated:\n",
    "        for arg in get_args(expected_type):\n",
    "            if isinstance(arg, ValueRange) and not arg.is_valid(value):\n",
    "                raise TypeError(\n",
    "                    \"type of {} must be {}; got {} instead\".format(\n",
    "                        name,\n",
    "                        expected_type,\n",
    "                        type(value)\n",
    "                    )\n",
    "                )\n",
    "\n",
    "\n",
    "\n",
    "my_check_type(\"verbosity\", -1, Verbosity)"
   ]
  },
  {
   "cell_type": "code",
   "execution_count": null,
   "metadata": {},
   "outputs": [
    {
     "data": {
      "text/plain": [
       "defaultdict(<function __main__.tree_default_factory()>,\n",
       "            {'a': defaultdict(<function __main__.tree_default_factory()>,\n",
       "                         {'b': 1,\n",
       "                          'c': 2,\n",
       "                          'd': defaultdict(<function __main__.tree_default_factory()>,\n",
       "                                      {'e': 3})})})"
      ]
     },
     "execution_count": 31,
     "metadata": {},
     "output_type": "execute_result"
    }
   ],
   "source": [
    "from collections import defaultdict\n",
    "\n",
    "def tree_default_factory():\n",
    "    return defaultdict(tree_default_factory)\n",
    "\n",
    "def tree_build(entries):\n",
    "    tree = defaultdict(tree_default_factory)\n",
    "    for (*key_path, final_key), value in entries:\n",
    "        target = tree\n",
    "        for key in key_path:\n",
    "            target = target[key]\n",
    "        target[final_key] = value\n",
    "    return tree\n",
    "\n",
    "tree_build((\n",
    "    ((\"a\", \"b\"), 1),\n",
    "    ((\"a\", \"c\"), 2),\n",
    "    ((\"a\", \"d\", \"e\"), 3),\n",
    "))"
   ]
  },
  {
   "cell_type": "code",
   "execution_count": 1,
   "metadata": {},
   "outputs": [
    {
     "ename": "NameError",
     "evalue": "name 'TFailure' is not defined",
     "output_type": "error",
     "traceback": [
      "\u001b[0;31m---------------------------------------------------------------------------\u001b[0m",
      "\u001b[0;31mNameError\u001b[0m                                 Traceback (most recent call last)",
      "Cell \u001b[0;32mIn [1], line 4\u001b[0m\n\u001b[1;32m      1\u001b[0m \u001b[38;5;28;01mfrom\u001b[39;00m \u001b[38;5;21;01mitertools\u001b[39;00m \u001b[38;5;28;01mimport\u001b[39;00m chain\n\u001b[1;32m      2\u001b[0m \u001b[38;5;28;01mfrom\u001b[39;00m \u001b[38;5;21;01mpprint\u001b[39;00m \u001b[38;5;28;01mimport\u001b[39;00m pprint\n\u001b[0;32m----> 4\u001b[0m \u001b[38;5;28;01mfrom\u001b[39;00m \u001b[38;5;21;01msplatlog\u001b[39;00m\u001b[38;5;21;01m.\u001b[39;00m\u001b[38;5;21;01mlib\u001b[39;00m\u001b[38;5;21;01m.\u001b[39;00m\u001b[38;5;21;01mvalidate\u001b[39;00m\u001b[38;5;21;01m.\u001b[39;00m\u001b[38;5;21;01mfailures\u001b[39;00m \u001b[38;5;28;01mimport\u001b[39;00m Failures, FailureGroup, format_failures\n\u001b[1;32m      6\u001b[0m \u001b[38;5;28;01mdef\u001b[39;00m \u001b[38;5;21mp\u001b[39m(name, \u001b[38;5;241m*\u001b[39mfailures):\n\u001b[1;32m      7\u001b[0m     \u001b[38;5;28mprint\u001b[39m(\u001b[38;5;124m\"\u001b[39m\u001b[38;5;130;01m\\n\u001b[39;00m\u001b[38;5;124m# \u001b[39m\u001b[38;5;124m\"\u001b[39m, name)\n",
      "File \u001b[0;32m~/src/github.com/FightFly/CatSprayer/deps/splatlog/splatlog/lib/validate/__init__.py:27\u001b[0m\n\u001b[1;32m     22\u001b[0m SEQUENCE_TYPES \u001b[39m=\u001b[39m (\u001b[39mlist\u001b[39m, \u001b[39mtuple\u001b[39m)\n\u001b[1;32m     24\u001b[0m Failure \u001b[39m=\u001b[39m \u001b[39mobject\u001b[39m\n\u001b[0;32m---> 27\u001b[0m \u001b[39mclass\u001b[39;00m \u001b[39mValidationError\u001b[39;00m(\u001b[39mException\u001b[39;00m):\n\u001b[1;32m     28\u001b[0m     \u001b[39m@staticmethod\u001b[39m\n\u001b[1;32m     29\u001b[0m     \u001b[39mdef\u001b[39;00m \u001b[39mformat_message\u001b[39m(value, failures):\n\u001b[1;32m     30\u001b[0m         sio \u001b[39m=\u001b[39m StringIO()\n",
      "File \u001b[0;32m~/src/github.com/FightFly/CatSprayer/deps/splatlog/splatlog/lib/validate/__init__.py:35\u001b[0m, in \u001b[0;36mValidationError\u001b[0;34m()\u001b[0m\n\u001b[1;32m     32\u001b[0m     format_failure_into(failures, sio)\n\u001b[1;32m     33\u001b[0m     \u001b[39mreturn\u001b[39;00m sio\u001b[39m.\u001b[39mgetvalue()\n\u001b[0;32m---> 35\u001b[0m failures: \u001b[39mtuple\u001b[39m[TFailure, \u001b[39m.\u001b[39m\u001b[39m.\u001b[39m\u001b[39m.\u001b[39m]\n\u001b[1;32m     37\u001b[0m \u001b[39mdef\u001b[39;00m \u001b[39m__init__\u001b[39m(\u001b[39mself\u001b[39m, value, failures: \u001b[39mtuple\u001b[39m[TFailure, \u001b[39m.\u001b[39m\u001b[39m.\u001b[39m\u001b[39m.\u001b[39m]):\n\u001b[1;32m     38\u001b[0m     \u001b[39msuper\u001b[39m()\u001b[39m.\u001b[39m\u001b[39m__init__\u001b[39m(ValidationError\u001b[39m.\u001b[39mformat_message(value, failures))\n",
      "\u001b[0;31mNameError\u001b[0m: name 'TFailure' is not defined"
     ]
    }
   ],
   "source": [
    "from itertools import chain\n",
    "from pprint import pprint\n",
    "\n",
    "from splatlog.lib.validate.failures import Failures, FailureGroup, format_failures\n",
    "\n",
    "def p(name, *failures):\n",
    "    print(\"\\n# \", name)\n",
    "    print(format_failures(*failures))\n",
    "\n",
    "def failures(id, count):\n",
    "    return Failures(f\"Failure {id}.{n + 1}\" for n in range(count))\n",
    "\n",
    "def group(id, *failures):\n",
    "    return FailureGroup(f\"Group {id}\", *failures)\n",
    "\n",
    "fg_a = group(\"A\", failures(1, 3), failures(2, 2))\n",
    "fg_b = group(\"B\", failures(3, 4), failures(4, 1))\n",
    "\n",
    "p(\"Groups A and B\", fg_a, fg_b)\n",
    "\n",
    "fg_c = group(\"C\", fg_a, fg_b, failures(5, 3))\n",
    "\n",
    "p(\"Group C\", fg_c)\n",
    "\n",
    "fg_e1 = group(\"E1\", failures(1, 0), failures(2, 0))\n",
    "\n",
    "p(\"Group E1\", fg_e1)\n",
    "\n",
    "print(\"E1 is empty\", fg_e1.is_empty())\n",
    "\n"
   ]
  },
  {
   "cell_type": "code",
   "execution_count": 2,
   "metadata": {},
   "outputs": [
    {
     "data": {
      "text/plain": [
       "True"
      ]
     },
     "execution_count": 2,
     "metadata": {},
     "output_type": "execute_result"
    }
   ],
   "source": [
    "from typing import Protocol, TypeVar, runtime_checkable\n",
    "\n",
    "T = TypeVar(\"T\")\n",
    "\n",
    "@runtime_checkable\n",
    "class Indexed(Protocol[T]):\n",
    "    def __getitem__(self, index: int) -> T:\n",
    "        ...\n",
    "\n",
    "\n",
    "class Blah:\n",
    "    def __getitem__(self, index: int):\n",
    "        return 123\n",
    "\n",
    "\n",
    "b = Blah()\n",
    "\n",
    "isinstance(b, Indexed)\n",
    "isinstance([], Indexed)\n"
   ]
  },
  {
   "cell_type": "code",
   "execution_count": 2,
   "metadata": {},
   "outputs": [
    {
     "name": "stdout",
     "output_type": "stream",
     "text": [
      " -    `.name`\n",
      "     -    must be 'c'\n"
     ]
    }
   ],
   "source": [
    "from splatlog.lib.validate import *\n",
    "from sys import stdout\n",
    "from pathlib import Path\n",
    "\n",
    "def p(failures):\n",
    "    format_failure_into(failures, stdout)\n",
    "\n",
    "v = validate_attr(\n",
    "    \"name\",\n",
    "    validate(lambda v: v == \"c\", \"must be 'c'\")\n",
    ")\n",
    "\n",
    "r = v(Path(\"/a/b/d\"))\n",
    "\n",
    "p(r)"
   ]
  }
 ],
 "metadata": {
  "kernelspec": {
   "display_name": "Python 3.10.4 ('.venv': poetry)",
   "language": "python",
   "name": "python3"
  },
  "language_info": {
   "codemirror_mode": {
    "name": "ipython",
    "version": 3
   },
   "file_extension": ".py",
   "mimetype": "text/x-python",
   "name": "python",
   "nbconvert_exporter": "python",
   "pygments_lexer": "ipython3",
   "version": "3.10.4"
  },
  "orig_nbformat": 4,
  "vscode": {
   "interpreter": {
    "hash": "f0b792ccb3801377a1cc737f1234bedd1a05b8c2c0b65a5c0614f201b80885ed"
   }
  }
 },
 "nbformat": 4,
 "nbformat_minor": 2
}
