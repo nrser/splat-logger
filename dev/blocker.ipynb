{
 "cells": [
  {
   "cell_type": "code",
   "execution_count": null,
   "metadata": {},
   "outputs": [
    {
     "ename": "",
     "evalue": "",
     "output_type": "error",
     "traceback": [
      "\u001b[1;31mRunning cells with 'Python 3.9.2 64-bit ('nrser-splatlog')' requires ipykernel package.\n",
      "\u001b[1;31mRun the following command to install 'ipykernel' into the Python environment. \n",
      "\u001b[1;31mCommand: '/Users/nrser/.pyenv/versions/3.9.2/envs/nrser-splatlog/bin/python -m pip install ipykernel -U --force-reinstall'"
     ]
    }
   ],
   "source": [
    "from collections.abc import Iterable, Generator, Sequence\n",
    "import re\n",
    "from typing import IO, TypeVar, Union, Optional\n",
    "from sys import stdout\n",
    "import textwrap"
   ]
  },
  {
   "cell_type": "code",
   "execution_count": null,
   "metadata": {},
   "outputs": [
    {
     "ename": "",
     "evalue": "",
     "output_type": "error",
     "traceback": [
      "\u001b[1;31mRunning cells with 'Python 3.9.2 64-bit ('nrser-splatlog')' requires ipykernel package.\n",
      "\u001b[1;31mRun the following command to install 'ipykernel' into the Python environment. \n",
      "\u001b[1;31mCommand: '/Users/nrser/.pyenv/versions/3.9.2/envs/nrser-splatlog/bin/python -m pip install ipykernel -U --force-reinstall'"
     ]
    }
   ],
   "source": [
    "_PARAGRAPH_SPLITTER = re.compile(r\"\\n\\s*\\n\")\n",
    "\n",
    "\n",
    "def split_paragraphs(text: str) -> list[str]:\n",
    "    return _PARAGRAPH_SPLITTER.split(text)\n",
    "\n",
    "def has_paragraphs(text: str) -> bool:\n",
    "    return _PARAGRAPH_SPLITTER.search(text) is not None\n",
    "\n",
    "has_p = \"\"\"\\\n",
    "Hey there.\n",
    "\n",
    "What's up?\n",
    "\"\"\"\n",
    "\n",
    "assert has_paragraphs(has_p)\n",
    "\n",
    "no_p = \"\"\"\\\n",
    "What up?\n",
    "How you been?\n",
    "\"\"\"\n",
    "\n",
    "assert not has_paragraphs(no_p)"
   ]
  },
  {
   "cell_type": "code",
   "execution_count": null,
   "metadata": {},
   "outputs": [
    {
     "ename": "",
     "evalue": "",
     "output_type": "error",
     "traceback": [
      "\u001b[1;31mRunning cells with 'Python 3.9.2 64-bit ('nrser-splatlog')' requires ipykernel package.\n",
      "\u001b[1;31mRun the following command to install 'ipykernel' into the Python environment. \n",
      "\u001b[1;31mCommand: '/Users/nrser/.pyenv/versions/3.9.2/envs/nrser-splatlog/bin/python -m pip install ipykernel -U --force-reinstall'"
     ]
    }
   ],
   "source": [
    "start_w_p = \"\"\"\n",
    "\n",
    "Hey ya.\n",
    "\"\"\"\n",
    "\n",
    "split_paragraphs(start_w_p)"
   ]
  },
  {
   "cell_type": "code",
   "execution_count": null,
   "metadata": {},
   "outputs": [
    {
     "ename": "",
     "evalue": "",
     "output_type": "error",
     "traceback": [
      "\u001b[1;31mRunning cells with 'Python 3.9.2 64-bit ('nrser-splatlog')' requires ipykernel package.\n",
      "\u001b[1;31mRun the following command to install 'ipykernel' into the Python environment. \n",
      "\u001b[1;31mCommand: '/Users/nrser/.pyenv/versions/3.9.2/envs/nrser-splatlog/bin/python -m pip install ipykernel -U --force-reinstall'"
     ]
    }
   ],
   "source": [
    "class BlankLine:\n",
    "    _instance = None\n",
    "\n",
    "    def __new__(class_, *args, **kwargs):\n",
    "        if not isinstance(class_._instance, class_):\n",
    "            class_._instance = object.__new__(class_, *args, **kwargs)\n",
    "        return class_._instance\n",
    "    \n",
    "    def __repr__(self) -> str:\n",
    "        return \"<BlankLine>\"\n",
    "\n",
    "BLANK_LINE = BlankLine()"
   ]
  },
  {
   "cell_type": "code",
   "execution_count": null,
   "metadata": {},
   "outputs": [
    {
     "ename": "",
     "evalue": "",
     "output_type": "error",
     "traceback": [
      "\u001b[1;31mRunning cells with 'Python 3.9.2 64-bit ('nrser-splatlog')' requires ipykernel package.\n",
      "\u001b[1;31mRun the following command to install 'ipykernel' into the Python environment. \n",
      "\u001b[1;31mCommand: '/Users/nrser/.pyenv/versions/3.9.2/envs/nrser-splatlog/bin/python -m pip install ipykernel -U --force-reinstall'"
     ]
    }
   ],
   "source": [
    "T = TypeVar(\"T\")\n",
    "V = TypeVar(\"V\")\n",
    "\n",
    "def intersperse(\n",
    "    sequence: Sequence[T],\n",
    "    value: V\n",
    ") -> Generator[Union[T, V], None, None]:\n",
    "    for index, entry in enumerate(sequence):\n",
    "        if index > 0:\n",
    "            yield from value\n",
    "        yield entry\n",
    "\n",
    "list(intersperse([\"a\", \"b\", \"c\"], [BLANK_LINE, BLANK_LINE]))"
   ]
  },
  {
   "cell_type": "code",
   "execution_count": null,
   "metadata": {},
   "outputs": [
    {
     "ename": "",
     "evalue": "",
     "output_type": "error",
     "traceback": [
      "\u001b[1;31mRunning cells with 'Python 3.9.2 64-bit ('nrser-splatlog')' requires ipykernel package.\n",
      "\u001b[1;31mRun the following command to install 'ipykernel' into the Python environment. \n",
      "\u001b[1;31mCommand: '/Users/nrser/.pyenv/versions/3.9.2/envs/nrser-splatlog/bin/python -m pip install ipykernel -U --force-reinstall'"
     ]
    }
   ],
   "source": [
    "_SQUISH_RE = re.compile(r'\\s+')\n",
    "\n",
    "def squish(text: str) -> str:\n",
    "    return _SQUISH_RE.sub(\" \", text)\n",
    "\n",
    "\n",
    "spaced_out = \"\"\"\\\n",
    "What   up dude?\n",
    "How ya  been?\n",
    "\"\"\"\n",
    "\n",
    "squish(spaced_out)"
   ]
  },
  {
   "cell_type": "code",
   "execution_count": null,
   "metadata": {},
   "outputs": [
    {
     "ename": "",
     "evalue": "",
     "output_type": "error",
     "traceback": [
      "\u001b[1;31mRunning cells with 'Python 3.9.2 64-bit ('nrser-splatlog')' requires ipykernel package.\n",
      "\u001b[1;31mRun the following command to install 'ipykernel' into the Python environment. \n",
      "\u001b[1;31mCommand: '/Users/nrser/.pyenv/versions/3.9.2/envs/nrser-splatlog/bin/python -m pip install ipykernel -U --force-reinstall'"
     ]
    }
   ],
   "source": [
    "PLACEHOLDER = \"…\"\n",
    "\n",
    "class TextBlock:\n",
    "    def __init__(self, src: Iterable[str], width: int):\n",
    "        self._src_itr = iter(src)\n",
    "        self._width = width\n",
    "        self._line_num = 0\n",
    "        self._col_num = 0\n",
    "        self._is_done = False\n",
    "        self._p_buffer = None\n",
    "        self._chunk_buffer = []\n",
    "    \n",
    "    @property\n",
    "    def is_done(self) -> bool:\n",
    "        return self._is_done\n",
    "    \n",
    "    @property\n",
    "    def width(self) -> int:\n",
    "        return self._width\n",
    "    \n",
    "    def _print_blank(self, file: IO) -> int:\n",
    "        file.write(\" \" * self._width)\n",
    "        self._line_num += 1\n",
    "        return self._width\n",
    "    \n",
    "    def _next_src_chunk(self) -> Optional[str]:\n",
    "        src_s = next(self._src_itr, None)\n",
    "\n",
    "        if src_s is None:\n",
    "            self._is_done = True\n",
    "            return None\n",
    "        \n",
    "        if has_paragraphs(src_s):\n",
    "            self._p_buffer = intersperse(\n",
    "                (squish(s) for s in split_paragraphs(src_s)),\n",
    "                (BLANK_LINE, BLANK_LINE)\n",
    "            )\n",
    "            return next(self._p_buffer)\n",
    "        \n",
    "        return squish(src_s)\n",
    "\n",
    "    def _next_chunk(self) -> Union[None, str, BlankLine]:\n",
    "        if len(self._chunk_buffer) > 0:\n",
    "            return self._chunk_buffer.pop(0)\n",
    "\n",
    "        if self._p_buffer is not None:\n",
    "            p_chunk = next(self._p_buffer, None)\n",
    "            if p_chunk is None:\n",
    "                self._p_buffer = None\n",
    "            else:\n",
    "                return p_chunk\n",
    "        \n",
    "        return self._next_src_chunk()\n",
    "    \n",
    "    def _end_line(self, file: IO, end: Optional[str]) -> int:\n",
    "        written = self._col_num\n",
    "        if end is not None:\n",
    "            file.write(end)\n",
    "            written += len(end)\n",
    "        self._line_num += 1\n",
    "        self._col_num = 0\n",
    "        return written\n",
    "    \n",
    "\n",
    "    def _split_chunk(\n",
    "        self,\n",
    "        chunk: str,\n",
    "        rem_cols: int\n",
    "    ) -> tuple[list[str], list[str]]:\n",
    "        tokens = textwrap.TextWrapper.wordsep_re.findall(chunk)\n",
    "        index = 0\n",
    "        length = 0\n",
    "        while index < len(tokens) and length <= rem_cols:\n",
    "            length += len(tokens[index])\n",
    "            index += 1\n",
    "        if length > rem_cols:\n",
    "            index -= 1\n",
    "        return (tokens[:index], tokens[index:])\n",
    "    \n",
    "\n",
    "    def _write_chunk(self, file: IO, chunk: str):\n",
    "        file.write(chunk)\n",
    "        self._col_num += len(chunk)\n",
    "        if self._col_num > self._width:\n",
    "            raise Exception(\n",
    "                \"OVERWRITE {}\".format(\n",
    "                    \", \".join(\n",
    "                        f\"{k}={v!r}\" for k, v in\n",
    "                        dict(\n",
    "                            col_num=self._col_num,\n",
    "                            chunk=chunk,\n",
    "                            length=len(chunk),\n",
    "                        ).items()\n",
    "                    )\n",
    "                )\n",
    "            )\n",
    "\n",
    "    def print_line(self, file: IO, *, end: Optional[str] = \"\\n\") -> int:\n",
    "        if self._is_done:\n",
    "            # We're already done, tell the caller we didn't print shit\n",
    "            return 0\n",
    "        \n",
    "        while True:\n",
    "            chunk = self._next_chunk()\n",
    "\n",
    "            if chunk is None:\n",
    "                # We have nothing left to write.\n",
    "                # \n",
    "                # `self._is_done` will have been set in `self._next_src_chunk`,\n",
    "                # so we just need to tell the caller we didn't write anything.\n",
    "                return self._end_line(file, end)\n",
    "            \n",
    "            if chunk is BLANK_LINE:\n",
    "                # Just end the line\n",
    "                return self._end_line(file, end)\n",
    "            \n",
    "            if self._col_num == 0:\n",
    "                chunk = chunk.lstrip()\n",
    "\n",
    "            chunk_length = len(chunk)\n",
    "            rem_cols = self._width - self._col_num\n",
    "\n",
    "            if chunk_length <= rem_cols:\n",
    "                self._write_chunk(file, chunk)\n",
    "                continue\n",
    "            \n",
    "            words = textwrap.TextWrapper.wordsep_re.findall(chunk)\n",
    "\n",
    "            if len(words[0]) > rem_cols:\n",
    "                if self._col_num == 0:\n",
    "                    self._write_chunk(file, words.pop(0)[:-1])\n",
    "                    self._write_chunk(file, PLACEHOLDER)\n",
    "            else:\n",
    "                while len(words[0]) + self._col_num < self._width:\n",
    "                    self._write_chunk(file, words.pop(0))\n",
    "            \n",
    "            self._chunk_buffer = words + self._chunk_buffer\n",
    "\n",
    "            return self._end_line(file, end)\n",
    "\n",
    "\n",
    "def print_blocks(blocks: list[TextBlock], file: IO = stdout):\n",
    "    while not all(b.is_done for b in blocks):\n",
    "        for i, b in enumerate(blocks):\n",
    "            written = 0 if b.is_done else b.print_line(file, end=None) \n",
    "            file.write(\" \" * (b.width - written))\n",
    "            if i + 1 < len(blocks):\n",
    "                file.write(\" | \")\n",
    "        file.write(\"\\n\")\n",
    "\n",
    "s = \"\"\"\\\n",
    "Lorem ipsum dolor sit amet, consectetur adipiscing elit, sed do eiusmod tempor incididunt ut labore et dolore magna aliqua. Pellentesque pulvinar pellentesque habitant morbi tristique senectus et netus. Accumsan lacus vel facilisis volutpat. Nisl rhoncus mattis rhoncus urna neque viverra justo.\n",
    "\n",
    "In egestas erat imperdiet sed euismod. Turpis cursus in hac habitasse platea dictumst quisque sagittis. In nibh mauris cursus mattis molestie a. Non consectetur a erat nam at lectus urna duis convallis. Arcu non sodales neque sodales ut etiam. Porta non pulvinar neque laoreet suspendisse interdum consectetur libero id.\n",
    "\n",
    "Vitae sapien pellentesque habitant morbi tristique. Ac ut consequat semper viverra nam libero justo laoreet sit. Urna nunc id cursus metus aliquam eleifend mi in. Nulla posuere sollicitudin aliquam ultrices sagittis.\n",
    "\"\"\"\n",
    "\n",
    "b_1 = TextBlock(\n",
    "    [s],\n",
    "    width=38\n",
    ")\n",
    "\n",
    "b_2 = TextBlock(\n",
    "    [s],\n",
    "    width=38\n",
    ")\n",
    "\n",
    "print_blocks([b_1, b_2])"
   ]
  }
 ],
 "metadata": {
  "kernelspec": {
   "display_name": "Python 3.9.2 64-bit ('nrser-splatlog')",
   "language": "python",
   "name": "python3"
  },
  "language_info": {
   "codemirror_mode": {
    "name": "ipython",
    "version": 3
   },
   "file_extension": ".py",
   "mimetype": "text/x-python",
   "name": "python",
   "nbconvert_exporter": "python",
   "pygments_lexer": "ipython3",
   "version": "3.9.2"
  },
  "orig_nbformat": 4,
  "vscode": {
   "interpreter": {
    "hash": "ce5b1bcec2b1143a9a198d529991dd798d7e436a073ea991d34f8dd0405434c4"
   }
  }
 },
 "nbformat": 4,
 "nbformat_minor": 2
}
