{
 "cells": [
  {
   "cell_type": "code",
   "execution_count": 1,
   "metadata": {},
   "outputs": [],
   "source": [
    "import os\n",
    "from pathlib import Path\n",
    "\n",
    "from splatlog._docs import REPO_ROOT\n",
    "\n",
    "from pydoc_markdown.contrib.loaders.python import PythonLoader\n",
    "from pydoc_markdown.interfaces import Context\n",
    "from pydoc_markdown.util.docspec import ApiSuite\n",
    "\n",
    "os.chdir(REPO_ROOT / \"docs\")\n",
    "\n",
    "loader = PythonLoader(search_path=[\"..\"])\n",
    "context = Context(str(Path.cwd()))\n",
    "\n",
    "loader.init(context)\n",
    "modules = list(loader.load())\n",
    "\n",
    "suite = ApiSuite(modules)\n"
   ]
  },
  {
   "cell_type": "code",
   "execution_count": 2,
   "metadata": {},
   "outputs": [
    {
     "data": {
      "text/plain": [
       "Indirection(name='JSONFormatter', target='splatlog.json.json_formatter.JSONFormatter')"
      ]
     },
     "execution_count": 2,
     "metadata": {},
     "output_type": "execute_result"
    }
   ],
   "source": [
    "indirect = suite.resolve_fqn(\"splatlog.JSONFormatter\")[0]\n",
    "\n",
    "indirect"
   ]
  },
  {
   "cell_type": "code",
   "execution_count": 22,
   "metadata": {},
   "outputs": [
    {
     "data": {
      "text/plain": [
       "'splatlog.JSONFormatter'"
      ]
     },
     "execution_count": 22,
     "metadata": {},
     "output_type": "execute_result"
    }
   ],
   "source": [
    "\".\".join(x.name for x in indirect.path)"
   ]
  },
  {
   "cell_type": "code",
   "execution_count": 28,
   "metadata": {},
   "outputs": [
    {
     "data": {
      "text/plain": [
       "Class(name='JSONFormatter', metaclass=None, bases=['logging.Formatter'], decorations=None, members=[Function(name='cast', modifiers=None, args=[Argument(name='cls', type=<Type.POSITIONAL: 1>, decorations=None, datatype=None, default_value=None), Argument(name='value', type=<Type.POSITIONAL: 1>, decorations=None, datatype='JSONFormatterCastable', default_value=None)], return_type='Self', decorations=[Decoration(name='classmethod', args=None, arglist=None)], semantic_hints=[]), Variable(name='_encoder', datatype='json.JSONEncoder', value=None, modifiers=[], semantic_hints=[]), Variable(name='_tz', datatype='Optional[timezone]', value=None, modifiers=[], semantic_hints=[]), Variable(name='_use_Z_for_utc', datatype='bool', value=None, modifiers=[], semantic_hints=[]), Function(name='__init__', modifiers=None, args=[Argument(name='self', type=<Type.POSITIONAL: 1>, decorations=None, datatype=None, default_value=None), Argument(name='fmt', type=<Type.POSITIONAL: 1>, decorations=None, datatype=None, default_value='None'), Argument(name='datefmt', type=<Type.POSITIONAL: 1>, decorations=None, datatype=None, default_value='None'), Argument(name='style', type=<Type.POSITIONAL: 1>, decorations=None, datatype=None, default_value='\"%\"'), Argument(name='validate', type=<Type.POSITIONAL: 1>, decorations=None, datatype=None, default_value='True'), Argument(name='defaults', type=<Type.KEYWORD_ONLY: 3>, decorations=None, datatype=None, default_value='None'), Argument(name='encoder', type=<Type.KEYWORD_ONLY: 3>, decorations=None, datatype='Union[json.JSONEncoder, JSONEncoderCastable]', default_value='None'), Argument(name='tz', type=<Type.KEYWORD_ONLY: 3>, decorations=None, datatype='Optional[timezone]', default_value='LOCAL_TIMEZONE'), Argument(name='use_Z_for_utc', type=<Type.KEYWORD_ONLY: 3>, decorations=None, datatype='bool', default_value='True')], return_type=None, decorations=[], semantic_hints=[]), Function(name='_format_message', modifiers=None, args=[Argument(name='self', type=<Type.POSITIONAL: 1>, decorations=None, datatype=None, default_value=None), Argument(name='record', type=<Type.POSITIONAL: 1>, decorations=None, datatype='logging.LogRecord', default_value=None)], return_type='str', decorations=[], semantic_hints=[]), Function(name='_format_timestamp', modifiers=None, args=[Argument(name='self', type=<Type.POSITIONAL: 1>, decorations=None, datatype=None, default_value=None), Argument(name='record', type=<Type.POSITIONAL: 1>, decorations=None, datatype='logging.LogRecord', default_value=None)], return_type='str', decorations=[], semantic_hints=[]), Function(name='format', modifiers=None, args=[Argument(name='self', type=<Type.POSITIONAL: 1>, decorations=None, datatype=None, default_value=None), Argument(name='record', type=<Type.POSITIONAL: 1>, decorations=None, datatype='logging.LogRecord', default_value=None)], return_type='str', decorations=[], semantic_hints=[])], modifiers=[], semantic_hints=[])"
      ]
     },
     "execution_count": 28,
     "metadata": {},
     "output_type": "execute_result"
    }
   ],
   "source": [
    "suite.resolve_fqn(indirect.target)[0]"
   ]
  },
  {
   "cell_type": "code",
   "execution_count": 17,
   "metadata": {},
   "outputs": [
    {
     "data": {
      "text/plain": [
       "Class(name='JSONFormatter', metaclass=None, bases=['logging.Formatter'], decorations=None, members=[Function(name='cast', modifiers=None, args=[Argument(name='cls', type=<Type.POSITIONAL: 1>, decorations=None, datatype=None, default_value=None), Argument(name='value', type=<Type.POSITIONAL: 1>, decorations=None, datatype='JSONFormatterCastable', default_value=None)], return_type='Self', decorations=[Decoration(name='classmethod', args=None, arglist=None)], semantic_hints=[]), Variable(name='_encoder', datatype='json.JSONEncoder', value=None, modifiers=[], semantic_hints=[]), Variable(name='_tz', datatype='Optional[timezone]', value=None, modifiers=[], semantic_hints=[]), Variable(name='_use_Z_for_utc', datatype='bool', value=None, modifiers=[], semantic_hints=[]), Function(name='__init__', modifiers=None, args=[Argument(name='self', type=<Type.POSITIONAL: 1>, decorations=None, datatype=None, default_value=None), Argument(name='fmt', type=<Type.POSITIONAL: 1>, decorations=None, datatype=None, default_value='None'), Argument(name='datefmt', type=<Type.POSITIONAL: 1>, decorations=None, datatype=None, default_value='None'), Argument(name='style', type=<Type.POSITIONAL: 1>, decorations=None, datatype=None, default_value='\"%\"'), Argument(name='validate', type=<Type.POSITIONAL: 1>, decorations=None, datatype=None, default_value='True'), Argument(name='defaults', type=<Type.KEYWORD_ONLY: 3>, decorations=None, datatype=None, default_value='None'), Argument(name='encoder', type=<Type.KEYWORD_ONLY: 3>, decorations=None, datatype='Union[json.JSONEncoder, JSONEncoderCastable]', default_value='None'), Argument(name='tz', type=<Type.KEYWORD_ONLY: 3>, decorations=None, datatype='Optional[timezone]', default_value='LOCAL_TIMEZONE'), Argument(name='use_Z_for_utc', type=<Type.KEYWORD_ONLY: 3>, decorations=None, datatype='bool', default_value='True')], return_type=None, decorations=[], semantic_hints=[]), Function(name='_format_message', modifiers=None, args=[Argument(name='self', type=<Type.POSITIONAL: 1>, decorations=None, datatype=None, default_value=None), Argument(name='record', type=<Type.POSITIONAL: 1>, decorations=None, datatype='logging.LogRecord', default_value=None)], return_type='str', decorations=[], semantic_hints=[]), Function(name='_format_timestamp', modifiers=None, args=[Argument(name='self', type=<Type.POSITIONAL: 1>, decorations=None, datatype=None, default_value=None), Argument(name='record', type=<Type.POSITIONAL: 1>, decorations=None, datatype='logging.LogRecord', default_value=None)], return_type='str', decorations=[], semantic_hints=[]), Function(name='format', modifiers=None, args=[Argument(name='self', type=<Type.POSITIONAL: 1>, decorations=None, datatype=None, default_value=None), Argument(name='record', type=<Type.POSITIONAL: 1>, decorations=None, datatype='logging.LogRecord', default_value=None)], return_type='str', decorations=[], semantic_hints=[])], modifiers=[], semantic_hints=[])"
      ]
     },
     "execution_count": 17,
     "metadata": {},
     "output_type": "execute_result"
    }
   ],
   "source": [
    "fqn = suite.resolve_fqn(\"splatlog.json.json_formatter.JSONFormatter\")[0]\n",
    "\n",
    "fqn"
   ]
  },
  {
   "cell_type": "code",
   "execution_count": 14,
   "metadata": {},
   "outputs": [],
   "source": [
    "from importlib.util import find_spec, module_from_spec\n",
    "from inspect import getmembers, isbuiltin"
   ]
  },
  {
   "cell_type": "code",
   "execution_count": 17,
   "metadata": {},
   "outputs": [
    {
     "data": {
      "text/plain": [
       "'built-in'"
      ]
     },
     "execution_count": 17,
     "metadata": {},
     "output_type": "execute_result"
    }
   ],
   "source": [
    "spec = find_spec(str.__module__)\n",
    "\n",
    "mod = module_from_spec(spec)\n",
    "\n",
    "getmembers(mod)\n",
    "\n",
    "spec.origin"
   ]
  },
  {
   "cell_type": "code",
   "execution_count": 20,
   "metadata": {},
   "outputs": [
    {
     "name": "stdout",
     "output_type": "stream",
     "text": [
      "['a', 'b', 'c']; []\n",
      "['a', 'b']; ['c']\n"
     ]
    }
   ],
   "source": [
    "def f(name):\n",
    "    name_parts = name.split(\".\")\n",
    "    parts_length = len(name_parts)\n",
    "    for rindex in range(parts_length, 0, -1):\n",
    "        module_name = name_parts[0:rindex]\n",
    "        member_path = name_parts[rindex:]\n",
    "        print(\"{}; {}\".format(module_name, member_path))\n",
    "\n",
    "f(\"a.b.c\")"
   ]
  }
 ],
 "metadata": {
  "kernelspec": {
   "display_name": "Python 3.10.4 ('.venv': poetry)",
   "language": "python",
   "name": "python3"
  },
  "language_info": {
   "codemirror_mode": {
    "name": "ipython",
    "version": 3
   },
   "file_extension": ".py",
   "mimetype": "text/x-python",
   "name": "python",
   "nbconvert_exporter": "python",
   "pygments_lexer": "ipython3",
   "version": "3.10.4"
  },
  "orig_nbformat": 4,
  "vscode": {
   "interpreter": {
    "hash": "25f0032df6364793c9ab24ec7d3961e0792c5f0acdb29541c6eef4d0043bc7b9"
   }
  }
 },
 "nbformat": 4,
 "nbformat_minor": 2
}
