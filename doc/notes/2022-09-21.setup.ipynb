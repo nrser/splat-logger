{
 "cells": [
  {
   "cell_type": "markdown",
   "metadata": {},
   "source": [
    "`splatlog.setup` Notes\n",
    "==============================================================================\n",
    "\n",
    "I want to support at _three_ major use cases:\n",
    "\n",
    "1.  Quick 'n dirty console — enable simple and easy _rich_ logging to stdio via\n",
    "    `RichHandler`.\n",
    "    \n",
    "2.  Care-free library — add logging to packages used as libraries without\n",
    "    worrying about where and how they'll be used.\n",
    "    \n",
    "3.  Clean and clear application — \n",
    "\n",
    "\n",
    "Quick 'n Dirty Console\n",
    "------------------------------------------------------------------------------\n",
    "\n",
    "So maybe the common quick 'n dirty setup looks like:"
   ]
  },
  {
   "cell_type": "code",
   "execution_count": 4,
   "metadata": {},
   "outputs": [
    {
     "data": {
      "text/html": [
       "<pre style=\"white-space:pre;overflow-x:auto;line-height:normal;font-family:Menlo,'DejaVu Sans Mono',consolas,'Courier New',monospace\"><span style=\"color: #000080; text-decoration-color: #000080\">INFO     </span> <span style=\"color: #7f7fbf; text-decoration-color: #7f7fbf\">__main__                                                                           </span>\n",
       "<span style=\"color: #dfdfdf; text-decoration-color: #dfdfdf\">msg      </span> Hey now!                                                                           \n",
       "<span style=\"color: #dfdfdf; text-decoration-color: #dfdfdf\">data     </span> <span style=\"color: #000080; text-decoration-color: #000080; font-style: italic\">x </span><span style=\"color: #4ec9b0; text-decoration-color: #4ec9b0; font-style: italic\">int </span><span style=\"color: #000080; text-decoration-color: #000080; font-weight: bold\">1</span>                                                                            \n",
       "          <span style=\"color: #000080; text-decoration-color: #000080; font-style: italic\">y </span><span style=\"color: #4ec9b0; text-decoration-color: #4ec9b0; font-style: italic\">int </span><span style=\"color: #000080; text-decoration-color: #000080; font-weight: bold\">23</span>                                                                           \n",
       "</pre>\n"
      ],
      "text/plain": [
       "<rich.jupyter.JupyterRenderable at 0x118ee1ea0>"
      ]
     },
     "metadata": {},
     "output_type": "display_data"
    }
   ],
   "source": [
    "import splatlog\n",
    "\n",
    "log = splatlog.setup(__name__)\n",
    "\n",
    "log.info(\"Hey now!\", x=1, y=23)"
   ]
  },
  {
   "cell_type": "markdown",
   "metadata": {},
   "source": [
    "or perhaps"
   ]
  },
  {
   "cell_type": "code",
   "execution_count": 8,
   "metadata": {},
   "outputs": [
    {
     "data": {
      "text/html": [
       "<pre style=\"white-space:pre;overflow-x:auto;line-height:normal;font-family:Menlo,'DejaVu Sans Mono',consolas,'Courier New',monospace\"><span style=\"color: #000080; text-decoration-color: #000080\">INFO     </span> <span style=\"color: #7f7fbf; text-decoration-color: #7f7fbf\">__main__                                                                           </span>\n",
       "<span style=\"color: #dfdfdf; text-decoration-color: #dfdfdf\">msg      </span> Hey now!                                                                           \n",
       "<span style=\"color: #dfdfdf; text-decoration-color: #dfdfdf\">data     </span> <span style=\"color: #000080; text-decoration-color: #000080; font-style: italic\">x </span><span style=\"color: #4ec9b0; text-decoration-color: #4ec9b0; font-style: italic\">int </span><span style=\"color: #000080; text-decoration-color: #000080; font-weight: bold\">1</span>                                                                            \n",
       "          <span style=\"color: #000080; text-decoration-color: #000080; font-style: italic\">y </span><span style=\"color: #4ec9b0; text-decoration-color: #4ec9b0; font-style: italic\">int </span><span style=\"color: #000080; text-decoration-color: #000080; font-weight: bold\">23</span>                                                                           \n",
       "</pre>\n"
      ],
      "text/plain": [
       "<rich.jupyter.JupyterRenderable at 0x118d75c90>"
      ]
     },
     "metadata": {},
     "output_type": "display_data"
    }
   ],
   "source": [
    "import splatlog\n",
    "\n",
    "name = \"splatlog.notes.setup\"\n",
    "\n",
    "log = splatlog.setup(\n",
    "    name=splatlog.root_name(__name__),\n",
    "    console=True,\n",
    ")\n",
    "\n",
    "log.info(\"Hey now!\", x=1, y=23)"
   ]
  },
  {
   "cell_type": "markdown",
   "metadata": {},
   "source": [
    "Care-Free Library\n",
    "------------------------------------------------------------------------------"
   ]
  },
  {
   "cell_type": "code",
   "execution_count": null,
   "metadata": {},
   "outputs": [],
   "source": [
    "import splatlog\n",
    "\n",
    "log = splatlog.getLogger(__name__)"
   ]
  },
  {
   "cell_type": "markdown",
   "metadata": {},
   "source": [
    "Clean and Clear Application\n",
    "------------------------------------------------------------------------------"
   ]
  },
  {
   "cell_type": "code",
   "execution_count": null,
   "metadata": {},
   "outputs": [],
   "source": [
    "import sys\n",
    "from logging import StreamHandler\n",
    "\n",
    "import splatlog\n",
    "\n",
    "splatlog.setup(\n",
    "    name=__name__,\n",
    "    role=\"app\",\n",
    "    handlers=[], # -> all roles\n",
    "    role_handlers={}, # name: handler -> Role(name)\n",
    ")\n",
    "\n",
    "splatlog.add_role_handler(\n",
    "    \"lib\",\n",
    "    StreamHandler(sys.stdout)\n",
    ")\n",
    "\n",
    "splatlog.set_verbosity(0)\n",
    "splatlog.set_role_level(\"lib\", \"debug\")\n",
    "\n"
   ]
  },
  {
   "cell_type": "markdown",
   "metadata": {},
   "source": [
    "If there is a setup for name `some_package` then the env var\n",
    "\n",
    "```py\n",
    "SPLATLOG_LEVEL=some_package:info\n",
    "\n",
    "SLOG_LEVEL=some_package:info\n",
    "\n",
    "LOG_LEVEL=some_package:info\n",
    "```\n",
    "\n",
    "should set the `some_package` logger's level to `logging.INFO`.\n",
    "\n",
    "If the setup name is `some_package.a_module` then the env var would be\n",
    "\n",
    "```py\n",
    "export LOG_LEVEL=some_package.a_module:info,other_package:debug\n",
    "```\n",
    "\n",
    "```shell\n",
    "python -m some_module \\\n",
    "    --splatlog.level some_package.a_module:info \\\n",
    "    --splatlog.level other_package:debug\n",
    "```\n"
   ]
  },
  {
   "cell_type": "code",
   "execution_count": null,
   "metadata": {},
   "outputs": [],
   "source": [
    "import splatlog\n",
    "\n",
    "log = splatlog.setup_app(\n",
    "    \n",
    "    verbosity=2,\n",
    ")"
   ]
  },
  {
   "cell_type": "code",
   "execution_count": 9,
   "metadata": {},
   "outputs": [
    {
     "data": {
      "text/plain": [
       "[(range(0, 3), 30), (range(3, 4), 20), (range(4, 9223372036854775807), 10)]"
      ]
     },
     "execution_count": 9,
     "metadata": {},
     "output_type": "execute_result"
    }
   ],
   "source": [
    "from logging import DEBUG, INFO, WARNING, NOTSET\n",
    "from itertools import pairwise\n",
    "from sys import maxsize\n",
    "\n",
    "verbosity_levels=(\n",
    "    (0, WARNING),\n",
    "    (3, INFO),\n",
    "    (4, DEBUG),\n",
    ")\n",
    "\n",
    "[\n",
    "    (range(v_1, v_2), l_1)\n",
    "    for (v_1, l_1), (v_2, l_2)\n",
    "    in pairwise((*verbosity_levels, (maxsize, NOTSET)))\n",
    "]"
   ]
  },
  {
   "cell_type": "code",
   "execution_count": 13,
   "metadata": {},
   "outputs": [],
   "source": [
    "from splatlog.roles import Role\n",
    "from logging import *\n",
    "\n",
    "app = Role(\n",
    "    name=\"app\",\n",
    "    description=None,\n",
    "    verbosity_levels=(\n",
    "        (0, INFO),\n",
    "        (1, DEBUG),\n",
    "    ),\n",
    ")\n",
    "\n",
    "\n",
    "svc = Role(\n",
    "    name=\"service\",\n",
    "    description=None,\n",
    "    verbosity_levels=(\n",
    "        (0, WARNING),\n",
    "        (1, INFO),\n",
    "        (2, DEBUG),\n",
    "    ),\n",
    ")\n",
    "\n",
    "lib = Role(\n",
    "    name=\"lib\",\n",
    "    description=None,\n",
    "    verbosity_levels=(\n",
    "        (0, WARNING),\n",
    "        (3, INFO),\n",
    "        (4, DEBUG),\n",
    "    ),\n",
    ")\n",
    "\n",
    "assert app.get_level(0) == INFO\n",
    "assert app.get_level(1) == DEBUG\n",
    "assert app.get_level(2) == DEBUG\n",
    "assert app.get_level(8) == DEBUG\n",
    "\n",
    "assert svc.get_level(0) == WARNING\n",
    "assert svc.get_level(1) == INFO\n",
    "assert svc.get_level(2) == DEBUG\n",
    "assert svc.get_level(8) == DEBUG\n",
    "\n",
    "assert lib.get_level(0) == WARNING\n",
    "assert lib.get_level(1) == WARNING\n",
    "assert lib.get_level(2) == WARNING\n",
    "assert lib.get_level(3) == INFO\n",
    "assert lib.get_level(4) == DEBUG\n",
    "assert lib.get_level(8) == DEBUG\n"
   ]
  }
 ],
 "metadata": {
  "kernelspec": {
   "display_name": "Python 3.10.4 ('.venv': poetry)",
   "language": "python",
   "name": "python3"
  },
  "language_info": {
   "codemirror_mode": {
    "name": "ipython",
    "version": 3
   },
   "file_extension": ".py",
   "mimetype": "text/x-python",
   "name": "python",
   "nbconvert_exporter": "python",
   "pygments_lexer": "ipython3",
   "version": "3.10.4"
  },
  "orig_nbformat": 4,
  "vscode": {
   "interpreter": {
    "hash": "f0b792ccb3801377a1cc737f1234bedd1a05b8c2c0b65a5c0614f201b80885ed"
   }
  }
 },
 "nbformat": 4,
 "nbformat_minor": 2
}
